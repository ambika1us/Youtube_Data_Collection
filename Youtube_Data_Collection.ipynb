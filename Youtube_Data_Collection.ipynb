{
 "cells": [
  {
   "cell_type": "code",
   "execution_count": 1,
   "id": "e7439a12-365e-4638-b417-56abb5feee62",
   "metadata": {},
   "outputs": [],
   "source": [
    "#!pip install google-api-python-client"
   ]
  },
  {
   "cell_type": "code",
   "execution_count": 2,
   "id": "45eb3020-4f25-4f6c-8d79-081bbad13d61",
   "metadata": {},
   "outputs": [],
   "source": [
    "import pandas as pd\n",
    "from googleapiclient.discovery import build\n",
    "from googleapiclient.errors import HttpError"
   ]
  },
  {
   "cell_type": "code",
   "execution_count": 3,
   "id": "e09e41b0-3262-4aff-937c-25e2baa075bd",
   "metadata": {},
   "outputs": [],
   "source": [
    "cred=pd.read_csv('ytb_key.csv')"
   ]
  },
  {
   "cell_type": "code",
   "execution_count": 4,
   "id": "f77b10b4-3ca1-41cb-ac95-ac4f25cae643",
   "metadata": {},
   "outputs": [],
   "source": [
    "cred=cred['API_KEY'].values[0]"
   ]
  },
  {
   "cell_type": "code",
   "execution_count": 5,
   "id": "a0a04075-ccf8-4591-a696-588e37291006",
   "metadata": {},
   "outputs": [],
   "source": [
    "API_KEY=cred"
   ]
  },
  {
   "cell_type": "code",
   "execution_count": null,
   "id": "5090fa1f-4cfa-4f69-9151-6f60c59f4046",
   "metadata": {},
   "outputs": [],
   "source": []
  },
  {
   "cell_type": "code",
   "execution_count": 6,
   "id": "b6c3be45-a7d4-4aba-b33e-dd75e92e8b77",
   "metadata": {},
   "outputs": [],
   "source": [
    "def get_trending_videos(api_key, max_results=200):\n",
    "    try:\n",
    "        # Build the YouTube service\n",
    "        youtube = build('youtube', 'v3', developerKey=api_key)\n",
    "\n",
    "        # Initialize the list to hold video details\n",
    "        videos = []\n",
    "\n",
    "        # Fetch the most popular videos\n",
    "        request = youtube.videos().list(\n",
    "            part='snippet,contentDetails,statistics',\n",
    "            chart='mostPopular',\n",
    "            regionCode='IN',  \n",
    "            maxResults=50\n",
    "        )\n",
    "\n",
    "        # Paginate through the results if max_results > 50\n",
    "        while request and len(videos) < max_results:\n",
    "            response = request.execute()\n",
    "            for item in response['items']:\n",
    "                video_details = {\n",
    "                    'video_id': item['id'],\n",
    "                    'title': item['snippet']['title'],\n",
    "                    'description': item['snippet']['description'],\n",
    "                    'published_at': item['snippet']['publishedAt'],\n",
    "                    'channel_id': item['snippet']['channelId'],\n",
    "                    'channel_title': item['snippet']['channelTitle'],\n",
    "                    'category_id': item['snippet']['categoryId'],\n",
    "                    'tags': item['snippet'].get('tags', []),\n",
    "                    'duration': item['contentDetails']['duration'],\n",
    "                    'definition': item['contentDetails']['definition'],\n",
    "                    'caption': item['contentDetails'].get('caption', 'false'),\n",
    "                    'view_count': item['statistics'].get('viewCount', 0),\n",
    "                    'like_count': item['statistics'].get('likeCount', 0),\n",
    "                    'dislike_count': item['statistics'].get('dislikeCount', 0),\n",
    "                    'favorite_count': item['statistics'].get('favoriteCount', 0),\n",
    "                    'comment_count': item['statistics'].get('commentCount', 0)\n",
    "                }\n",
    "                videos.append(video_details)\n",
    "\n",
    "            # Get the next page token\n",
    "            request = youtube.videos().list_next(request, response)\n",
    "\n",
    "        return videos[:max_results]\n",
    "    \n",
    "    except HttpError as e:\n",
    "        print(f'An HTTP error {e.resp.status} occurred: {e.content}')\n",
    "        return []"
   ]
  },
  {
   "cell_type": "code",
   "execution_count": 7,
   "id": "3e4d03e0-507d-42a6-a5fb-cfb4c751a440",
   "metadata": {},
   "outputs": [],
   "source": [
    "def save_to_csv(data, filename):\n",
    "    df = pd.DataFrame(data)\n",
    "    df.to_csv(filename, index=False)\n",
    "    return df"
   ]
  },
  {
   "cell_type": "code",
   "execution_count": 8,
   "id": "ab97bf27-15d0-4f97-9011-accb7a7fbf7b",
   "metadata": {},
   "outputs": [],
   "source": [
    "def main():\n",
    "    trending_videos = get_trending_videos(API_KEY)\n",
    "    if trending_videos:  # Check if any data was returned\n",
    "        filename = 'trending_videos.csv'\n",
    "        df=save_to_csv(trending_videos, filename)\n",
    "        print(df)\n",
    "        print(f'Trending videos saved to {filename}')\n",
    "    else:\n",
    "        print('No data to save.')"
   ]
  },
  {
   "cell_type": "code",
   "execution_count": 9,
   "id": "a27b0b53-15be-43d2-b9f9-22952ac63321",
   "metadata": {},
   "outputs": [
    {
     "name": "stdout",
     "output_type": "stream",
     "text": [
      "        video_id                                              title  \\\n",
      "0    77vRyWNqZjM  Chhaava | Official Trailer | Vicky K | Rashmik...   \n",
      "1    _wfrNbLguWw  LOCK  (MUSIC VIDEO) SIDHU MOOSE WALA  | THE KI...   \n",
      "2    fxOOCsa227o  Meem Se Mohabbat - Episode 11 [CC] 22nd Jan 20...   \n",
      "3    hGOqqLjgfe4  Yerra Yerrani Rumalu Gatti Dj Full Song | 2025...   \n",
      "4    XG39r3kqPAM  Samsung Galaxy S25 Series is Here - CRAZIEST A...   \n",
      "..           ...                                                ...   \n",
      "110  7N_d2Ln70o8  The Champions Trophy Discussion Show 🏆 | R Ash...   \n",
      "111  lUcsv56UBb0  EP 1864: Saif के घर पर रात डेढ़ बजे से ढाई बजे...   \n",
      "112  QxBwo6zLCj4  Kashmera Ke Khane Ne Mere Hosh Uda Diye | Bhar...   \n",
      "113  0tIO8KHdCe0  Bujji Thalli Song Performance | Sudheer,Rashmi...   \n",
      "114  KQW6wsiz6Z0  HUSBAND RATING MY JEWELLERY 😍 | FUNNY VLOG 😂 |...   \n",
      "\n",
      "                                           description          published_at  \\\n",
      "0    Dinesh Vijan and Maddock Films present the tra...  2025-01-22T11:45:04Z   \n",
      "1    Sidhu Moose Wala Presents \\n\\nSong - LOCK\\nSin...  2025-01-23T03:45:31Z   \n",
      "2    👉 Subscribe To HUM TV - https://bit.ly/HumTvPK...  2025-01-22T16:00:47Z   \n",
      "3    Yerra Yerrani Rumalu Gatti Dj Full Song | 2025...  2025-01-22T05:57:55Z   \n",
      "4    Samsung ka naya S25 Ultra aagaya hai \\n\\n#Gala...  2025-01-22T18:03:03Z   \n",
      "..                                                 ...                   ...   \n",
      "110  Join R Ashwin and PDogg as they dive deep into...  2025-01-19T08:24:01Z   \n",
      "111  Download link :- https://kukufm.page.link/oNRF...  2025-01-16T15:31:24Z   \n",
      "112  *Dekhiye Hamara Fresh New Content Only On Bhar...  2025-01-21T13:30:21Z   \n",
      "113  #eesankranthikivasthunnam #2025sankranthievent...  2025-01-21T05:00:06Z   \n",
      "114  We’re thrilled to announce the Grand Opening o...  2025-01-18T12:03:55Z   \n",
      "\n",
      "                   channel_id                channel_title category_id  \\\n",
      "0    UC-LOdiPoxninevJ0DkleCLg                Maddock Films          24   \n",
      "1    UC9ChdqQRCaZmTCwSJ49tcbw             Sidhu Moose Wala          10   \n",
      "2    UCEeEQxm6qc_qaTE7qTV5aLQ                       HUM TV          24   \n",
      "3    UCWQSh-aBmqF1Pp34IkNQKIg                  konda vlogs          10   \n",
      "4    UCXUJJNoP1QupwsYIWFXmsZg                  Tech Burner          28   \n",
      "..                        ...                          ...         ...   \n",
      "110  UCYbge2419-UBBDyv6frJ3jA                       Ashwin          17   \n",
      "111  UCpDxPj3sm40ISX5hn-TlYcw                    Crime Tak          25   \n",
      "112  UCiKNX0TIMyKgGqQznhR1Xig  LOL (Life of Limbachiyaa’s)          24   \n",
      "113  UCSs9H1cyB3OHdy8wkit8ZKg               etvteluguindia          24   \n",
      "114  UCWwPvZvoWub-Yb0P9d5bYzA              Nandu Ramisetty          22   \n",
      "\n",
      "                                                  tags  duration definition  \\\n",
      "0    [chhaava trailer, chhaava, chava trailer, vick...    PT3M9S         hd   \n",
      "1    [sidhu moosewala, sidhu moosewala latest song,...    PT3M2S         hd   \n",
      "2    [drama in hindi, drama, top pakistani drama, b...  PT37M18S         hd   \n",
      "3    [Yerra Yerrani Rumalu Gatti Dj Full Song, Yerr...    PT4M4S         hd   \n",
      "4    [samsung galaxy s25 ultra, samsung s25 ultra, ...  PT23M45S         hd   \n",
      "..                                                 ...       ...        ...   \n",
      "110  [Ashwin, PDogg, Champions Trophy, Indian Crick...  PT32M51S         hd   \n",
      "111      [crime tak, crime tak latest story, crimetak]  PT25M19S         hd   \n",
      "112  [bharti singh vlogs, bharti singh, haarsh limb...  PT14M46S         hd   \n",
      "113  [ee sankranthi ki vasthunnam, etv sankranthi e...   PT4M54S         hd   \n",
      "114                                                 []  PT17M16S         hd   \n",
      "\n",
      "    caption view_count like_count  dislike_count favorite_count comment_count  \n",
      "0      true   29994734     584990              0              0         45429  \n",
      "1     false    5006239    1035977              0              0        211290  \n",
      "2      true    9275598     240168              0              0          7011  \n",
      "3     false    1199325      49748              0              0          1282  \n",
      "4     false    1252203      55442              0              0          1994  \n",
      "..      ...        ...        ...            ...            ...           ...  \n",
      "110    true     366775      16141              0              0          1779  \n",
      "111   false    3685614      57119              0              0          4692  \n",
      "112   false    1672687      58115              0              0           801  \n",
      "113   false    1563931      41670              0              0          1154  \n",
      "114   false     501030      16129              0              0           299  \n",
      "\n",
      "[115 rows x 16 columns]\n",
      "Trending videos saved to trending_videos.csv\n"
     ]
    }
   ],
   "source": [
    "if __name__ == '__main__':\n",
    "    main()"
   ]
  },
  {
   "cell_type": "code",
   "execution_count": 10,
   "id": "50a2ad3a-6a79-4e7b-83ad-be9355ce7444",
   "metadata": {},
   "outputs": [
    {
     "name": "stdout",
     "output_type": "stream",
     "text": [
      "      video_id                                              title  \\\n",
      "0  77vRyWNqZjM  Chhaava | Official Trailer | Vicky K | Rashmik...   \n",
      "1  _wfrNbLguWw  LOCK  (MUSIC VIDEO) SIDHU MOOSE WALA  | THE KI...   \n",
      "2  fxOOCsa227o  Meem Se Mohabbat - Episode 11 [CC] 22nd Jan 20...   \n",
      "3  hGOqqLjgfe4  Yerra Yerrani Rumalu Gatti Dj Full Song | 2025...   \n",
      "4  XG39r3kqPAM  Samsung Galaxy S25 Series is Here - CRAZIEST A...   \n",
      "\n",
      "                                         description          published_at  \\\n",
      "0  Dinesh Vijan and Maddock Films present the tra...  2025-01-22T11:45:04Z   \n",
      "1  Sidhu Moose Wala Presents \\n\\nSong - LOCK\\nSin...  2025-01-23T03:45:31Z   \n",
      "2  👉 Subscribe To HUM TV - https://bit.ly/HumTvPK...  2025-01-22T16:00:47Z   \n",
      "3  Yerra Yerrani Rumalu Gatti Dj Full Song | 2025...  2025-01-22T05:57:55Z   \n",
      "4  Samsung ka naya S25 Ultra aagaya hai \\n\\n#Gala...  2025-01-22T18:03:03Z   \n",
      "\n",
      "                 channel_id     channel_title  category_id  \\\n",
      "0  UC-LOdiPoxninevJ0DkleCLg     Maddock Films           24   \n",
      "1  UC9ChdqQRCaZmTCwSJ49tcbw  Sidhu Moose Wala           10   \n",
      "2  UCEeEQxm6qc_qaTE7qTV5aLQ            HUM TV           24   \n",
      "3  UCWQSh-aBmqF1Pp34IkNQKIg       konda vlogs           10   \n",
      "4  UCXUJJNoP1QupwsYIWFXmsZg       Tech Burner           28   \n",
      "\n",
      "                                                tags  duration definition  \\\n",
      "0  ['chhaava trailer', 'chhaava', 'chava trailer'...    PT3M9S         hd   \n",
      "1  ['sidhu moosewala', 'sidhu moosewala latest so...    PT3M2S         hd   \n",
      "2  ['drama in hindi', 'drama', 'top pakistani dra...  PT37M18S         hd   \n",
      "3  ['Yerra Yerrani Rumalu Gatti Dj Full Song', 'Y...    PT4M4S         hd   \n",
      "4  ['samsung galaxy s25 ultra', 'samsung s25 ultr...  PT23M45S         hd   \n",
      "\n",
      "   caption  view_count  like_count  dislike_count  favorite_count  \\\n",
      "0     True    29994734      584990              0               0   \n",
      "1    False     5006239     1035977              0               0   \n",
      "2     True     9275598      240168              0               0   \n",
      "3    False     1199325       49748              0               0   \n",
      "4    False     1252203       55442              0               0   \n",
      "\n",
      "   comment_count  \n",
      "0          45429  \n",
      "1         211290  \n",
      "2           7011  \n",
      "3           1282  \n",
      "4           1994  \n"
     ]
    }
   ],
   "source": [
    "trending_videos = pd.read_csv('trending_videos.csv')\n",
    "print(trending_videos.head())"
   ]
  },
  {
   "cell_type": "code",
   "execution_count": 11,
   "id": "8c80b06a-5458-43a4-a776-b389cca43081",
   "metadata": {},
   "outputs": [
    {
     "data": {
      "text/plain": [
       "(video_id          0\n",
       " title             0\n",
       " description       5\n",
       " published_at      0\n",
       " channel_id        0\n",
       " channel_title     0\n",
       " category_id       0\n",
       " tags              0\n",
       " duration          0\n",
       " definition        0\n",
       " caption           0\n",
       " view_count        0\n",
       " like_count        0\n",
       " dislike_count     0\n",
       " favorite_count    0\n",
       " comment_count     0\n",
       " dtype: int64,\n",
       " video_id          object\n",
       " title             object\n",
       " description       object\n",
       " published_at      object\n",
       " channel_id        object\n",
       " channel_title     object\n",
       " category_id        int64\n",
       " tags              object\n",
       " duration          object\n",
       " definition        object\n",
       " caption             bool\n",
       " view_count         int64\n",
       " like_count         int64\n",
       " dislike_count      int64\n",
       " favorite_count     int64\n",
       " comment_count      int64\n",
       " dtype: object)"
      ]
     },
     "execution_count": 11,
     "metadata": {},
     "output_type": "execute_result"
    }
   ],
   "source": [
    "# check for missing values\n",
    "missing_values = trending_videos.isnull().sum()\n",
    "\n",
    "# display data types\n",
    "data_types = trending_videos.dtypes\n",
    "\n",
    "missing_values, data_types"
   ]
  },
  {
   "cell_type": "code",
   "execution_count": 12,
   "id": "08361ce0-acc1-4fad-97a3-8a1f3af957dd",
   "metadata": {},
   "outputs": [
    {
     "name": "stderr",
     "output_type": "stream",
     "text": [
      "C:\\Users\\ambik\\AppData\\Local\\Temp\\ipykernel_10016\\612291233.py:2: FutureWarning: A value is trying to be set on a copy of a DataFrame or Series through chained assignment using an inplace method.\n",
      "The behavior will change in pandas 3.0. This inplace method will never work because the intermediate object on which we are setting values always behaves as a copy.\n",
      "\n",
      "For example, when doing 'df[col].method(value, inplace=True)', try using 'df.method({col: value}, inplace=True)' or df[col] = df[col].method(value) instead, to perform the operation inplace on the original object.\n",
      "\n",
      "\n",
      "  trending_videos['description'].fillna('No description', inplace=True)\n"
     ]
    }
   ],
   "source": [
    "# fill missing descriptions with \"No description\"\n",
    "trending_videos['description'].fillna('No description', inplace=True)"
   ]
  },
  {
   "cell_type": "code",
   "execution_count": 13,
   "id": "22192f07-e0d1-4c85-9020-0aa12907f272",
   "metadata": {},
   "outputs": [],
   "source": [
    "# convert `published_at` to datetime\n",
    "trending_videos['published_at'] = pd.to_datetime(trending_videos['published_at'])\n",
    "\n",
    "# convert tags from string representation of list to actual list\n",
    "trending_videos['tags'] = trending_videos['tags'].apply(lambda x: eval(x) if isinstance(x, str) else x)"
   ]
  },
  {
   "cell_type": "code",
   "execution_count": 14,
   "id": "70df26a8-7401-4101-a2f7-49739b348a01",
   "metadata": {},
   "outputs": [
    {
     "data": {
      "text/html": [
       "<div>\n",
       "<style scoped>\n",
       "    .dataframe tbody tr th:only-of-type {\n",
       "        vertical-align: middle;\n",
       "    }\n",
       "\n",
       "    .dataframe tbody tr th {\n",
       "        vertical-align: top;\n",
       "    }\n",
       "\n",
       "    .dataframe thead th {\n",
       "        text-align: right;\n",
       "    }\n",
       "</style>\n",
       "<table border=\"1\" class=\"dataframe\">\n",
       "  <thead>\n",
       "    <tr style=\"text-align: right;\">\n",
       "      <th></th>\n",
       "      <th>view_count</th>\n",
       "      <th>like_count</th>\n",
       "      <th>dislike_count</th>\n",
       "      <th>comment_count</th>\n",
       "    </tr>\n",
       "  </thead>\n",
       "  <tbody>\n",
       "    <tr>\n",
       "      <th>count</th>\n",
       "      <td>1.150000e+02</td>\n",
       "      <td>1.150000e+02</td>\n",
       "      <td>115.0</td>\n",
       "      <td>115.000000</td>\n",
       "    </tr>\n",
       "    <tr>\n",
       "      <th>mean</th>\n",
       "      <td>2.360899e+06</td>\n",
       "      <td>7.441348e+04</td>\n",
       "      <td>0.0</td>\n",
       "      <td>4993.139130</td>\n",
       "    </tr>\n",
       "    <tr>\n",
       "      <th>std</th>\n",
       "      <td>4.557565e+06</td>\n",
       "      <td>1.492491e+05</td>\n",
       "      <td>0.0</td>\n",
       "      <td>20567.252673</td>\n",
       "    </tr>\n",
       "    <tr>\n",
       "      <th>min</th>\n",
       "      <td>7.027200e+04</td>\n",
       "      <td>0.000000e+00</td>\n",
       "      <td>0.0</td>\n",
       "      <td>0.000000</td>\n",
       "    </tr>\n",
       "    <tr>\n",
       "      <th>25%</th>\n",
       "      <td>3.670240e+05</td>\n",
       "      <td>6.938500e+03</td>\n",
       "      <td>0.0</td>\n",
       "      <td>246.000000</td>\n",
       "    </tr>\n",
       "    <tr>\n",
       "      <th>50%</th>\n",
       "      <td>7.565300e+05</td>\n",
       "      <td>1.819700e+04</td>\n",
       "      <td>0.0</td>\n",
       "      <td>646.000000</td>\n",
       "    </tr>\n",
       "    <tr>\n",
       "      <th>75%</th>\n",
       "      <td>2.078598e+06</td>\n",
       "      <td>6.568500e+04</td>\n",
       "      <td>0.0</td>\n",
       "      <td>3224.000000</td>\n",
       "    </tr>\n",
       "    <tr>\n",
       "      <th>max</th>\n",
       "      <td>2.999473e+07</td>\n",
       "      <td>1.035977e+06</td>\n",
       "      <td>0.0</td>\n",
       "      <td>211290.000000</td>\n",
       "    </tr>\n",
       "  </tbody>\n",
       "</table>\n",
       "</div>"
      ],
      "text/plain": [
       "         view_count    like_count  dislike_count  comment_count\n",
       "count  1.150000e+02  1.150000e+02          115.0     115.000000\n",
       "mean   2.360899e+06  7.441348e+04            0.0    4993.139130\n",
       "std    4.557565e+06  1.492491e+05            0.0   20567.252673\n",
       "min    7.027200e+04  0.000000e+00            0.0       0.000000\n",
       "25%    3.670240e+05  6.938500e+03            0.0     246.000000\n",
       "50%    7.565300e+05  1.819700e+04            0.0     646.000000\n",
       "75%    2.078598e+06  6.568500e+04            0.0    3224.000000\n",
       "max    2.999473e+07  1.035977e+06            0.0  211290.000000"
      ]
     },
     "execution_count": 14,
     "metadata": {},
     "output_type": "execute_result"
    }
   ],
   "source": [
    "# descriptive statistics\n",
    "descriptive_stats = trending_videos[['view_count', 'like_count', 'dislike_count', 'comment_count']].describe()\n",
    "\n",
    "descriptive_stats"
   ]
  },
  {
   "cell_type": "code",
   "execution_count": 16,
   "id": "b8bc695f-706c-4529-b858-53d3ba1c6f98",
   "metadata": {},
   "outputs": [],
   "source": [
    "import matplotlib.pyplot as plt\n",
    "import seaborn as sns\n"
   ]
  },
  {
   "cell_type": "code",
   "execution_count": 17,
   "id": "388ffbe0-799a-4943-b23c-5e363b9b0bb9",
   "metadata": {},
   "outputs": [
    {
     "data": {
      "image/png": "[encoded data removed]",
      "text/plain": [
       "<Figure size 1800x500 with 3 Axes>"
      ]
     },
     "metadata": {},
     "output_type": "display_data"
    }
   ],
   "source": [
    "sns.set(style=\"whitegrid\")\n",
    "fig, axes = plt.subplots(1, 3, figsize=(18, 5))\n",
    "\n",
    "# view count distribution\n",
    "sns.histplot(trending_videos['view_count'], bins=30, kde=True, ax=axes[0], color='blue')\n",
    "axes[0].set_title('View Count Distribution')\n",
    "axes[0].set_xlabel('View Count')\n",
    "axes[0].set_ylabel('Frequency')\n",
    "\n",
    "# like count distribution\n",
    "sns.histplot(trending_videos['like_count'], bins=30, kde=True, ax=axes[1], color='green')\n",
    "axes[1].set_title('Like Count Distribution')\n",
    "axes[1].set_xlabel('Like Count')\n",
    "axes[1].set_ylabel('Frequency')\n",
    "\n",
    "# comment count distribution\n",
    "sns.histplot(trending_videos['comment_count'], bins=30, kde=True, ax=axes[2], color='red')\n",
    "axes[2].set_title('Comment Count Distribution')\n",
    "axes[2].set_xlabel('Comment Count')\n",
    "axes[2].set_ylabel('Frequency')\n",
    "\n",
    "plt.tight_layout()\n",
    "plt.show()"
   ]
  },
  {
   "cell_type": "code",
   "execution_count": null,
   "id": "4f816329-c851-4db9-a1c4-2fa22305ef7a",
   "metadata": {},
   "outputs": [],
   "source": []
  }
 ],
 "metadata": {
  "kernelspec": {
   "display_name": "Python 3 (ipykernel)",
   "language": "python",
   "name": "python3"
  },
  "language_info": {
   "codemirror_mode": {
    "name": "ipython",
    "version": 3
   },
   "file_extension": ".py",
   "mimetype": "text/x-python",
   "name": "python",
   "nbconvert_exporter": "python",
   "pygments_lexer": "ipython3",
   "version": "3.12.4"
  }
 },
 "nbformat": 4,
 "nbformat_minor": 5
}
